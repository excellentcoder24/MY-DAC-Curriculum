{
 "cells": [
  {
   "cell_type": "markdown",
   "metadata": {},
   "source": [
    "Question 1: Lists Task:\n",
    "(a) Create a list named fruits with the items \"apple\", \"orange\", and \"banana\".\n",
    "(b) Add \"tomato\" to the end of the fruits list.\n",
    "(c) Remove \"apple\" from the fruits list."
   ]
  },
  {
   "cell_type": "code",
   "execution_count": null,
   "metadata": {},
   "outputs": [],
   "source": [
    "# lists store multiple elements in one variable. denoted by variable = []\n",
    "# indexes mean position, starting from 0.\n",
    "\n",
    "# Question 1 Part (a)\n",
    "fruit_list = [\"apple\", \"orange\", \"banana\"]\n",
    "print(fruit_list)\n",
    "\n",
    "# Question 1 Part (b)\n",
    "fruit_list.append(\"tomato\")\n",
    "print (fruit_list)\n",
    "\n",
    "# Question 1 Part (c)\n",
    "del fruit_list[0]\n",
    "print(fruit_list)"
   ]
  },
  {
   "cell_type": "markdown",
   "metadata": {},
   "source": [
    "Question 2: Tuples Task:\n",
    "(a) Create a tuple named subjects with the following elements: \"physics\", \"chemistry\", \"english\", \"math\", and \"biology\".\n",
    "(b) Attempt to append \"literature\" to the tuple and observe the result. Suggest an alternative way to add an element to a tuple.\n",
    "(c) Count the number of elements in the subjects tuple."
   ]
  },
  {
   "cell_type": "code",
   "execution_count": null,
   "metadata": {},
   "outputs": [],
   "source": [
    "# Tuples are immutable(unchangeable) while Lists are mutable(changeable).\n",
    "# Tuples have a fixed sequence.\n",
    "\n",
    "# Question 2 Part (a)\n",
    "subjects = (\"physics\", \"chemistry\", \"english\", \"math\", \"biology\")\n",
    "print(subjects)\n",
    "\n",
    "# Question 2 Part (b)\n",
    "\n",
    "# Convert to list > append > convert to back tuple:\n",
    "\n",
    "# Step 1: Converting the tuple called subjects to a list called list of subjects\n",
    "list_of_subjects = list(subjects)\n",
    "\n",
    "# Checking that it is indeed now a list:\n",
    "type(list_of_subjects)\n",
    "\n",
    "# Appending the list labelled list of subjects \n",
    "list_of_subjects.append(\"literature\")\n",
    "print(list_of_subjects)\n",
    "\n",
    "# Converting the list labelled list of subjects back into a tuple\n",
    "subjects = tuple(list_of_subjects)\n",
    "print(subjects)\n",
    "\n",
    "# Checking that it is indeed a tuple:\n",
    "type(subjects)\n",
    "\n",
    "# Question 2 Part (c)\n",
    "print(len(subjects))"
   ]
  },
  {
   "cell_type": "markdown",
   "metadata": {},
   "source": [
    "Question 3:\n",
    "Sorting Lists Task:\n",
    "(a) Create a list named students_id with the values [10, 6, 7, 8, 9, 3].\n",
    "(b) Sort the list in descending order and reinitialize it as sorted_students_id.\n",
    "(c) Remove all elements from the sorted_students_id list."
   ]
  },
  {
   "cell_type": "code",
   "execution_count": null,
   "metadata": {},
   "outputs": [],
   "source": [
    "# Question 3 Part (a)\n",
    "students_id = [10, 6, 7, 8, 9, 3]\n",
    "print(students_id)\n",
    "\n",
    "# Question 3 Part (b)\n",
    "students_id.sort(reverse = True)\n",
    "print(students_id)\n",
    "sorted_students_id = students_id\n",
    "print(sorted_students_id)\n",
    "\n",
    "# Question 3 Part (c)\n",
    "sorted_students_id.clear()\n",
    "print(sorted_students_id)"
   ]
  },
  {
   "cell_type": "markdown",
   "metadata": {},
   "source": [
    "Question 4:\n",
    "Generating Lists Task:\n",
    "Generate a list of numbers starting from 15 and decreasing by 3 each step, until the number is positive (not inclusive of zero).\n",
    "Store it in a variable named desc_list."
   ]
  },
  {
   "cell_type": "code",
   "execution_count": 104,
   "metadata": {},
   "outputs": [
    {
     "ename": "TypeError",
     "evalue": "'list' object is not callable",
     "output_type": "error",
     "traceback": [
      "\u001b[1;31m---------------------------------------------------------------------------\u001b[0m",
      "\u001b[1;31mTypeError\u001b[0m                                 Traceback (most recent call last)",
      "Cell \u001b[1;32mIn[104], line 3\u001b[0m\n\u001b[0;32m      1\u001b[0m \u001b[38;5;66;03m# Question 4\u001b[39;00m\n\u001b[1;32m----> 3\u001b[0m list_s \u001b[38;5;241m=\u001b[39m \u001b[38;5;28;43mlist\u001b[39;49m\u001b[43m(\u001b[49m\u001b[38;5;28;43mrange\u001b[39;49m\u001b[43m(\u001b[49m\u001b[38;5;241;43m16\u001b[39;49m\u001b[43m,\u001b[49m\u001b[43m \u001b[49m\u001b[38;5;241;43m-\u001b[39;49m\u001b[38;5;241;43m5\u001b[39;49m\u001b[43m,\u001b[49m\u001b[43m \u001b[49m\u001b[38;5;241;43m-\u001b[39;49m\u001b[38;5;241;43m1\u001b[39;49m\u001b[43m)\u001b[49m\u001b[43m)\u001b[49m\n\u001b[0;32m      4\u001b[0m \u001b[38;5;28mprint\u001b[39m(list_s)\n",
      "\u001b[1;31mTypeError\u001b[0m: 'list' object is not callable"
     ]
    }
   ],
   "source": [
    "# Question 4\n",
    "\n",
    "list_s = list(range(16, 1, -3))\n",
    "print(list_s)"
   ]
  },
  {
   "cell_type": "markdown",
   "metadata": {},
   "source": [
    "Question 5:\n",
    "Generating Lists Task:\n",
    "Generate a list of numbers starting from 2, increasing by 2 each step, until the list contains 14 elements.\n",
    "Store it in a variable named asc_list."
   ]
  },
  {
   "cell_type": "code",
   "execution_count": null,
   "metadata": {},
   "outputs": [],
   "source": [
    "list_s = list ()"
   ]
  }
 ],
 "metadata": {
  "kernelspec": {
   "display_name": "Python 3",
   "language": "python",
   "name": "python3"
  },
  "language_info": {
   "codemirror_mode": {
    "name": "ipython",
    "version": 3
   },
   "file_extension": ".py",
   "mimetype": "text/x-python",
   "name": "python",
   "nbconvert_exporter": "python",
   "pygments_lexer": "ipython3",
   "version": "3.11.9"
  }
 },
 "nbformat": 4,
 "nbformat_minor": 2
}
